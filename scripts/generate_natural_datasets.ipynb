{
 "cells": [
  {
   "cell_type": "code",
   "execution_count": 1,
   "metadata": {},
   "outputs": [
    {
     "name": "stderr",
     "output_type": "stream",
     "text": [
      "/om2/user/jackking/anaconda/envs/modular_transformers/lib/python3.8/site-packages/tqdm/auto.py:21: TqdmWarning: IProgress not found. Please update jupyter and ipywidgets. See https://ipywidgets.readthedocs.io/en/stable/user_install.html\n",
      "  from .autonotebook import tqdm as notebook_tqdm\n",
      "[nltk_data] Downloading package punkt to /home/jackking/nltk_data...\n",
      "[nltk_data]   Package punkt is already up-to-date!\n"
     ]
    }
   ],
   "source": [
    "import numpy as np\n",
    "import pickle\n",
    "import matplotlib.pyplot as plt\n",
    "from transformers import GPT2Tokenizer, GPT2LMHeadModel\n",
    "from tqdm import tqdm\n",
    "import torch as torch\n",
    "from datasets import load_dataset, load_from_disk\n",
    "import os\n",
    "from torch.utils.data import Dataset\n",
    "from torch.utils.data import DataLoader\n",
    "import random\n",
    "from datasets import load_dataset\n",
    "import nltk\n",
    "nltk.download('punkt')  # Download the necessary resources\n",
    "from superurop.utilities.utils import *\n",
    "from modular_transformers.straightening.straightening_utils import compute_model_activations, compute_model_curvature\n",
    "from itertools import islice\n",
    "from concurrent.futures import ProcessPoolExecutor\n",
    "\n",
    "\n",
    "from nltk.tokenize import sent_tokenize\n",
    "\n",
    "import torch.nn.functional as F\n",
    "\n",
    "dataset_manager = DatasetManager()\n",
    "\n",
    "tokenizer = GPT2Tokenizer.from_pretrained(\"gpt2-xl\")\n",
    "path = \"/om2/user/jackking/modular_transformers/scripts/attention_interpretability/\"\n",
    "device = torch.device('cuda' if torch.cuda.is_available() else 'cpu')\n",
    "\n",
    "batch_size = 64\n",
    "dataname = \"len16_sentences\"\n",
    "context_length = 16\n",
    "buffer = 7\n",
    "dataset, params = dataset_manager.load_dataset(\"natural\", dataname)\n",
    "dataset = AutoregressiveDataset(dataset)\n",
    "dataloader = DataLoader(dataset, batch_size=batch_size, shuffle=False)\n",
    "model_name = \"gpt2\""
   ]
  },
  {
   "cell_type": "code",
   "execution_count": 26,
   "metadata": {},
   "outputs": [],
   "source": [
    "def collect_sentences(fw_text):\n",
    "    sentences = []\n",
    "    # Limit with islice to avoid checking the length of sentences repeatedly\n",
    "    for i, sample in tqdm(enumerate(islice(fw_text, 1000000))):\n",
    "        tokenized_sentences = [tokenizer.encode(sentence)\n",
    "                               for sentence in sent_tokenize(sample[\"text\"])]\n",
    "        \n",
    "        # Filter and add only sentences of the required length\n",
    "        sentences.extend([s for s in tokenized_sentences if len(s) == context_length])\n",
    "\n",
    "        if i % 50000 == 0:   \n",
    "            sentences_tensor = torch.tensor(sentences)\n",
    "            params = {\"dataset_length\": len(sentences), \"context_length\": context_length, \"source\": \"fineweb\"}\n",
    "            dataset_manager.save_dataset(\"natural\", dataname, sentences_tensor, params=params)"
   ]
  },
  {
   "cell_type": "code",
   "execution_count": 3,
   "metadata": {},
   "outputs": [],
   "source": [
    "fw = load_dataset(\"HuggingFaceFW/fineweb\", name=\"sample-10BT\", split=\"train\", streaming=True)\n",
    "fw_text = fw.select_columns(\"text\")"
   ]
  },
  {
   "cell_type": "code",
   "execution_count": 27,
   "metadata": {},
   "outputs": [
    {
     "name": "stderr",
     "output_type": "stream",
     "text": [
      "309994it [44:10, 229.33it/s]"
     ]
    }
   ],
   "source": [
    "collect_sentences(fw_text)"
   ]
  },
  {
   "cell_type": "code",
   "execution_count": null,
   "metadata": {},
   "outputs": [],
   "source": [
    "for i in range(10):\n",
    "    print(tokenizer.decode(dataset[0][i].tolist()))\n",
    "    print()"
   ]
  },
  {
   "cell_type": "code",
   "execution_count": null,
   "metadata": {},
   "outputs": [],
   "source": [
    "def get_whole_context_surprisals(model, dataloader, device, data_params):\n",
    "    batch_size = dataloader.batch_size\n",
    "    surprisals = torch.zeros(data_params[\"dataset_length\"], data_params[\"context_length\"])\n",
    "    for batch_idx, batch in enumerate(tqdm(dataloader)):\n",
    "        inputs = batch.to(device)\n",
    "        with torch.no_grad():\n",
    "            outputs = model(inputs)\n",
    "        logits = outputs.logits\n",
    "        log_probs = -F.log_softmax(logits, dim=-1)\n",
    "        log_probs = log_probs[:, :-1, :]\n",
    "        input_ids = inputs[:, 1:]\n",
    "        indx_start = batch_idx*batch_size\n",
    "        indx_end = (batch_idx+1)*batch_size\n",
    "        surprisals[indx_start:indx_end, 1:] = log_probs.gather(-1, input_ids.unsqueeze(-1)).squeeze(-1).detach().cpu()\n",
    "\n",
    "    return surprisals\n",
    "\n",
    "\n",
    "def get_surprisals_in_context(model, dataloader, device, context_length, buffer, data_params):\n",
    "    model.eval()\n",
    "    #bad naming here. data_params[\"context_length\"] is the length of each sample, context_length is\n",
    "    # the length of the context used to calculate surprisals\n",
    "    sample_length = data_params[\"context_length\"]\n",
    "    surprisals = torch.zeros(data_params[\"dataset_length\"], sample_length)\n",
    "    context_length = context_length + 1 # the context is 2 but need to look at the third token\n",
    "\n",
    "    for batch_idx, batch in enumerate(tqdm(dataloader)):\n",
    "        # shape: (batch_size, sample_length-buffer-1, context_length)\n",
    "        samples_range = range(buffer-context_length+1, sample_length - context_length+1)\n",
    "        if isinstance(batch, list):\n",
    "            batch = torch.stack(batch)\n",
    "        batch = torch.stack([batch[:, i:i+context_length] for i in samples_range], axis=1).to(device)\n",
    "        batch_size = batch.shape[0]\n",
    "        sample_size = batch.shape[1]\n",
    "        flattened_batch = batch.view(batch_size*sample_size, -1)\n",
    "        with torch.no_grad():\n",
    "            outputs = model(flattened_batch)\n",
    "        outputs = outputs.logits.view(batch_size, sample_size, context_length, -1)\n",
    "\n",
    "        for sample_idx, logits in enumerate(outputs):\n",
    "            log_probs = -F.log_softmax(logits, dim=-1)\n",
    "            log_probs = log_probs[:, -2, :]\n",
    "            input_ids = batch[sample_idx, :, -1]\n",
    "            indx_start = batch_idx*batch_size + sample_idx\n",
    "            surprisals[indx_start, buffer:] = log_probs.gather(-1, input_ids.unsqueeze(-1)).squeeze(-1).flatten().detach().cpu()\n",
    "            \n",
    "    return surprisals"
   ]
  },
  {
   "cell_type": "code",
   "execution_count": null,
   "metadata": {},
   "outputs": [
    {
     "name": "stderr",
     "output_type": "stream",
     "text": [
      "100%|██████████| 2596/2596 [01:36<00:00, 26.86it/s]\n",
      "100%|██████████| 2596/2596 [02:42<00:00, 15.93it/s]\n",
      "100%|██████████| 2596/2596 [00:58<00:00, 44.51it/s]\n"
     ]
    }
   ],
   "source": [
    "model_name = \"gpt2\"\n",
    "model = GPT2LMHeadModel.from_pretrained(model_name).to(device)\n",
    "model.eval()\n",
    "\n",
    "two_token_context_surprisals = get_surprisals_in_context(model, dataloader, device, 2, buffer, params) \n",
    "four_token_context_surprisals = get_surprisals_in_context(model, dataloader, device, 4, buffer, params)\n",
    "whole_context_surprisals = get_whole_context_surprisals(model, dataloader, device, params)\n",
    "\n",
    "dataset_manager.save_surprisals(\"natural\", dataname, two_token_context_surprisals, model_name, 2)\n",
    "dataset_manager.save_surprisals(\"natural\", dataname, four_token_context_surprisals, model_name, 4)\n",
    "dataset_manager.save_surprisals(\"natural\", dataname, whole_context_surprisals, model_name, \"whole\")"
   ]
  },
  {
   "cell_type": "code",
   "execution_count": null,
   "metadata": {},
   "outputs": [
    {
     "data": {
      "text/plain": [
       "tensor([ 0.0000,  0.0000,  0.0000,  0.0000,  0.0000,  0.0000,  0.0000,  1.6533,\n",
       "         7.2619, 13.9646, 11.8599,  2.4486,  9.6098,  5.3556,  9.6581,  8.4860])"
      ]
     },
     "execution_count": 7,
     "metadata": {},
     "output_type": "execute_result"
    }
   ],
   "source": [
    "four_token_context_surprisals[0]"
   ]
  },
  {
   "cell_type": "code",
   "execution_count": null,
   "metadata": {},
   "outputs": [],
   "source": [
    "def select_sentences(sentences, buffer, two_token_surprisals, four_token_surprisals, whole_surprisals):\n",
    "    two_token_mean, two_token_std = torch.mean(two_token_surprisals).item(), torch.std(two_token_surprisals).item()\n",
    "    four_token_mean, four_token_std = torch.mean(four_token_surprisals).item(), torch.std(four_token_surprisals).item()\n",
    "    whole_mean, whole_std = torch.mean(whole_surprisals).item(), torch.std(whole_surprisals).item()\n",
    "    short_context_token_indices = torch.zeros(len(sentences), len(sentences[0]))\n",
    "    long_context_token_indices = torch.zeros(len(sentences), len(sentences[0]))\n",
    "    short_context_sentences_indices = []\n",
    "    long_context_sentences_indices = []\n",
    "    for sentence_idx, sentence in tqdm(enumerate(sentences)):\n",
    "        short_context_tokens = 0\n",
    "        long_context_tokens = 0\n",
    "        for token_idx in range(buffer, len(sentence)):\n",
    "            two_token_surprisal = two_token_surprisals[sentence_idx, token_idx]\n",
    "            four_token_surprisal = four_token_surprisals[sentence_idx, token_idx]\n",
    "            whole_surprisal = whole_surprisals[sentence_idx, token_idx]\n",
    "            \n",
    "            #short context clauses\n",
    "            locally_predictable = two_token_surprisal <= two_token_mean - 0.25*two_token_std\n",
    "            not_globally_predictable = whole_surprisal >= two_token_surprisal - 0.5*two_token_std #need to compare to two_token_surprisal\n",
    "            \n",
    "            #long context clauses\n",
    "            not_locally_predictable = two_token_surprisal >= two_token_mean + 0.25*two_token_std\n",
    "            mid_not_too_predictable = four_token_surprisal >= four_token_mean\n",
    "            globally_predictable = whole_surprisal <= whole_mean - 0.25*whole_std\n",
    "\n",
    "            if locally_predictable and not_globally_predictable:\n",
    "                short_context_token_indices[sentence_idx, token_idx] = 1\n",
    "                short_context_tokens += 1\n",
    "            elif not_locally_predictable and mid_not_too_predictable and globally_predictable:\n",
    "                long_context_token_indices[sentence_idx, token_idx] = 1\n",
    "                long_context_tokens += 1\n",
    "\n",
    "        if short_context_tokens > len(sentence) - buffer - 3:\n",
    "            short_context_sentences_indices.append(sentence_idx)\n",
    "        elif long_context_tokens > len(sentence) - buffer - 3:\n",
    "            long_context_sentences_indices.append(sentence_idx)\n",
    "\n",
    "    return short_context_token_indices, long_context_token_indices, np.array(short_context_sentences_indices), np.array(long_context_sentences_indices)"
   ]
  },
  {
   "cell_type": "code",
   "execution_count": null,
   "metadata": {},
   "outputs": [
    {
     "name": "stderr",
     "output_type": "stream",
     "text": [
      "166082it [00:57, 2878.46it/s]\n"
     ]
    }
   ],
   "source": [
    "two_token_context_surprisals = dataset_manager.load_surprisals(\"natural\", dataname, model_name, 2)[0]\n",
    "four_token_context_surprisals = dataset_manager.load_surprisals(\"natural\", dataname, model_name, 4)[0]\n",
    "whole_context_surprisals = dataset_manager.load_surprisals(\"natural\", dataname, model_name, \"whole\")[0]\n",
    "short_context_token_indices, long_context_token_indices, short_context_sentences, long_context_sentences = select_sentences(dataset, buffer, two_token_context_surprisals, four_token_context_surprisals, whole_context_surprisals)\n",
    "\n",
    "# dataset_manager.save_dataset(\"natural\", dataname, short_context_token_indices, model_name=model_name, context_type=\"short\", prefix=\"indices\")\n",
    "# dataset_manager.save_dataset(\"natural\", dataname, long_context_token_indices, model_name, context_type=\"long\", prefix=\"indices\")\n",
    "# dataset_manager.save_dataset(\"natural\", dataname, short_context_sentences, model_name, context_type=\"short\", prefix=\"sentences\")\n",
    "# dataset_manager.save_dataset(\"natural\", dataname, long_context_sentences, model_name, context_type=\"long\", prefix=\"sentences\")"
   ]
  },
  {
   "cell_type": "code",
   "execution_count": null,
   "metadata": {},
   "outputs": [
    {
     "name": "stdout",
     "output_type": "stream",
     "text": [
      "2\n",
      "6\n"
     ]
    },
    {
     "data": {
      "text/plain": [
       "(None, None)"
      ]
     },
     "execution_count": 15,
     "metadata": {},
     "output_type": "execute_result"
    }
   ],
   "source": [
    "print(len(short_context_sentences)), print(len(long_context_sentences))"
   ]
  },
  {
   "cell_type": "code",
   "execution_count": null,
   "metadata": {},
   "outputs": [
    {
     "data": {
      "text/plain": [
       "(array([3.4869e+04, 6.1978e+04, 4.6150e+04, 1.8469e+04, 4.0590e+03,\n",
       "        5.2200e+02, 3.3000e+01, 0.0000e+00, 0.0000e+00, 2.0000e+00]),\n",
       " array([0.        , 0.89999998, 1.79999995, 2.70000005, 3.5999999 ,\n",
       "        4.5       , 5.4000001 , 6.30000019, 7.19999981, 8.10000038,\n",
       "        9.        ]),\n",
       " <BarContainer object of 10 artists>)"
      ]
     },
     "execution_count": 20,
     "metadata": {},
     "output_type": "execute_result"
    },
    {
     "data": {
      "image/png": "[encoded data removed]",
      "text/plain": [
       "<Figure size 640x480 with 1 Axes>"
      ]
     },
     "metadata": {},
     "output_type": "display_data"
    }
   ],
   "source": [
    "plt.hist(short_context_token_indices.sum(axis=-1))"
   ]
  },
  {
   "cell_type": "code",
   "execution_count": null,
   "metadata": {},
   "outputs": [],
   "source": [
    "def save_sentence_curvatures(model, sentences, datatype, dataname, model_name):\n",
    "    model.eval()\n",
    "    activations = compute_model_activations(model, sentences, device)\n",
    "    curvatures = compute_model_curvature(activations)\n",
    "    dataset_manager.save_curvatures(datatype, dataname, curvatures, model_name)"
   ]
  }
 ],
 "metadata": {
  "kernelspec": {
   "display_name": "Python 3 (ipykernel)",
   "language": "python",
   "name": "python3"
  },
  "language_info": {
   "codemirror_mode": {
    "name": "ipython",
    "version": 3
   },
   "file_extension": ".py",
   "mimetype": "text/x-python",
   "name": "python",
   "nbconvert_exporter": "python",
   "pygments_lexer": "ipython3",
   "version": "3.8.16"
  }
 },
 "nbformat": 4,
 "nbformat_minor": 2
}
